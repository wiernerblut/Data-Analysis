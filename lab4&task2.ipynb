{
 "cells": [
  {
   "cell_type": "code",
   "execution_count": 3,
   "id": "12a945bb-eff5-4806-997c-02179c4961eb",
   "metadata": {},
   "outputs": [
    {
     "name": "stderr",
     "output_type": "stream",
     "text": [
      "No model was supplied, defaulted to distilbert-base-uncased-finetuned-sst-2-english and revision af0f99b (https://huggingface.co/distilbert-base-uncased-finetuned-sst-2-english).\n",
      "Using a pipeline without specifying a model name and revision in production is not recommended.\n"
     ]
    },
    {
     "name": "stdout",
     "output_type": "stream",
     "text": [
      "[{'label': 'POSITIVE', 'score': 0.5129309296607971}]\n",
      "[{'label': 'POSITIVE', 'score': 0.9426858425140381}]\n"
     ]
    },
    {
     "name": "stderr",
     "output_type": "stream",
     "text": [
      "Setting `pad_token_id` to `eos_token_id`:50256 for open-end generation.\n"
     ]
    },
    {
     "name": "stdout",
     "output_type": "stream",
     "text": [
      "Prompt: , пес Патрон В розмінуванні\n",
      "Generated Text:\n",
      ", пес Патрон В розмінуванні об’єкти, об’єктна діяльність, на транспорті.\n",
      "У свою чергу, Міністерство інфраструктури України продовжує активно продовжувати роботу з питань підготовки проектів нормативно-правових актів, які безпосередньо стосуються підвищення безпеки на залізницях та\n"
     ]
    }
   ],
   "source": [
    "import numpy as np\n",
    "import tensorflow as tf\n",
    "from tensorflow import keras\n",
    "import random\n",
    "from transformers import pipeline\n",
    "\n",
    "# Створення об'єкту pipeline для аналізу тексту\n",
    "classifier = pipeline('sentiment-analysis')\n",
    "\n",
    "# Приклад використання\n",
    "text_input = \"Хто тримає цей район? Пес Патрон, пес Патрон\"\n",
    "res = classifier(text_input)\n",
    "print(res)\n",
    "text_input = \"Хто тримає цей район? Пес Патрон, пес Патрон\"\n",
    "res = classifier(text_input)\n",
    "print(result)\n",
    "\n",
    "from transformers import pipeline, AutoTokenizer, AutoModelForQuestionAnswering\n",
    "model_task2 = \"robinhad/ukrainian-qa\"\n",
    "tokenizer = AutoTokenizer.from_pretrained(model_task2)\n",
    "model = AutoModelForQuestionAnswering.from_pretrained(model_task2)\n",
    "\n",
    "question_and_anwering_model = pipeline(\"question-answering\", model=model.to(\"cpu\"), tokenizer=tokenizer)\n",
    "\n",
    "question = \"Хто не ходить на газон?\"\n",
    "context = \"Такого пса не було і не буде\"\n",
    "question_and_anwering_model(question = question, context = context)\n",
    "\n",
    "from transformers import pipeline, AutoModelForCausalLM, AutoTokenizer\n",
    "\n",
    "model_task2 = \"benjamin/gpt2-wechsel-ukrainian\"\n",
    "tokenizer = AutoTokenizer.from_pretrained(model_task2)\n",
    "model = AutoModelForCausalLM.from_pretrained(model_task2)\n",
    "\n",
    "text_generation_pipeline = pipeline('text-generation', model=model, tokenizer=tokenizer)\n",
    "\n",
    "prompt = \", пес Патрон В розмінуванні\"\n",
    "resulted_text = text_generation_pipeline(prompt, max_length=50, num_return_sequences=1)\n",
    "\n",
    "print(f\"Prompt: {prompt}\")\n",
    "print(\"Generated Text:\")\n",
    "print(resulted_text[0]['generated_text'])"
   ]
  },
  {
   "cell_type": "code",
   "execution_count": null,
   "id": "3472c1cc-ec7c-4614-ac9d-8143bca33fc7",
   "metadata": {},
   "outputs": [],
   "source": []
  },
  {
   "cell_type": "code",
   "execution_count": null,
   "id": "aa464d44-0680-4e87-827b-3699aa0ab813",
   "metadata": {},
   "outputs": [],
   "source": []
  }
 ],
 "metadata": {
  "kernelspec": {
   "display_name": "Python 3 (ipykernel)",
   "language": "python",
   "name": "python3"
  },
  "language_info": {
   "codemirror_mode": {
    "name": "ipython",
    "version": 3
   },
   "file_extension": ".py",
   "mimetype": "text/x-python",
   "name": "python",
   "nbconvert_exporter": "python",
   "pygments_lexer": "ipython3",
   "version": "3.11.3"
  }
 },
 "nbformat": 4,
 "nbformat_minor": 5
}
